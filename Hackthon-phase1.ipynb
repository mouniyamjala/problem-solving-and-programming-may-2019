{
 "cells": [
  {
   "cell_type": "markdown",
   "metadata": {},
   "source": [
    "## Date : 14th may 2019\n",
    "# Y.Mounika"
   ]
  },
  {
   "cell_type": "markdown",
   "metadata": {},
   "source": [
    "### For a given integer N, find the total number of  Non - Prime Factors in the range (1, N) (both exclusive) that do not contain the digit 0\n",
    "nonPrimeFactorsCount( 100 ) -> 2\n",
    "nonPrimeFactorsCount( 50 )  ->  1"
   ]
  },
  {
   "cell_type": "code",
   "execution_count": 1,
   "metadata": {},
   "outputs": [
    {
     "name": "stdout",
     "output_type": "stream",
     "text": [
      "2\n",
      "1\n"
     ]
    }
   ],
   "source": [
    "def isNotPrime(k):\n",
    "\tf = 0\n",
    "\tfor i in range(2,(k//2)+1):\n",
    "\t\tif k%i == 0:\n",
    "\t\t\tf+=1\n",
    "\tif f == 0:\n",
    "\t\treturn False\n",
    "\telse:\n",
    "\t\treturn True\n",
    "\n",
    "def notContains_O(k):\n",
    "\tl = str(k)\n",
    "\tif l.count('0') > 0:\n",
    "\t\treturn False\n",
    "\telse:\n",
    "\t\treturn True\n",
    "\n",
    "def nonPrimeFactorsCount(n):\n",
    "\tfactors = []\n",
    "\tfor i in range(2,(n//2)+1):\n",
    "\t\tif n%i == 0:\n",
    "\t\t\tif isNotPrime(i) and notContains_O(i):\n",
    "\t\t\t\tif i not in factors:\n",
    "\t\t\t\t\tfactors.append(i)\n",
    "\t\t\tif isNotPrime(int(n/i)) and notContains_O(int(n/i)):\n",
    "\t\t\t\tif i not in factors:\n",
    "\t\t\t\t\tfactors.append(n//i)\n",
    "\treturn len(factors)\n",
    "\n",
    "# Test\n",
    "print(nonPrimeFactorsCount(100))\n",
    "print(nonPrimeFactorsCount(50))"
   ]
  },
  {
   "cell_type": "markdown",
   "metadata": {},
   "source": [
    "### For a given integer N. Find the least positive integer X made up of only 9's and 0's, such that, X is a multiple of N.\n",
    "\n",
    "X is made up of one or more occurrences of 9 and zero or more occurrences of 0.\n",
    "\n",
    "Multiple( 5 )  -> 90\n",
    "Multiple ( 7 )  -> 9009\n",
    "Multiple( 1 )  -> 9\n"
   ]
  },
  {
   "cell_type": "code",
   "execution_count": 2,
   "metadata": {},
   "outputs": [
    {
     "name": "stdout",
     "output_type": "stream",
     "text": [
      "90\n",
      "9009\n",
      "9\n"
     ]
    }
   ],
   "source": [
    "def getNext(number):\n",
    "\tisSet = False\n",
    "\tmustNotContain = [str(i) for i in range(1,9)] \n",
    "\twhile not isSet:\n",
    "\t\tnumber += 1\n",
    "\t\ts = str(number)\n",
    "\t\ttotal = len(s)\n",
    "\t\tcount_0 = s.count('0')\n",
    "\t\tcount_1 = s.count('9')\n",
    "\t\tif total == count_1 + count_0:\n",
    "\t\t\treturn number\n",
    "\n",
    "def Multiple(n):\n",
    "\tfound = False\n",
    "\tnumber = 9\n",
    "\twhile not found:\n",
    "\t\tif number%n == 0:\n",
    "\t\t\tfound = True\n",
    "\t\telse:\n",
    "\t\t\tnumber = getNext(number)\n",
    "\treturn number\n",
    "\n",
    "# Test\n",
    "print(Multiple(5))\n",
    "print(Multiple(7))\n",
    "print(Multiple(1))"
   ]
  },
  {
   "cell_type": "code",
   "execution_count": null,
   "metadata": {},
   "outputs": [],
   "source": []
  }
 ],
 "metadata": {
  "kernelspec": {
   "display_name": "Python 3",
   "language": "python",
   "name": "python3"
  },
  "language_info": {
   "codemirror_mode": {
    "name": "ipython",
    "version": 3
   },
   "file_extension": ".py",
   "mimetype": "text/x-python",
   "name": "python",
   "nbconvert_exporter": "python",
   "pygments_lexer": "ipython3",
   "version": "3.7.3"
  }
 },
 "nbformat": 4,
 "nbformat_minor": 2
}
