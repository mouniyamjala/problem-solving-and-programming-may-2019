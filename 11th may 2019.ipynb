{
 "cells": [
  {
   "cell_type": "markdown",
   "metadata": {},
   "source": [
    "## Date : 11th may 2019\n",
    "# Y Mounika"
   ]
  },
  {
   "cell_type": "markdown",
   "metadata": {},
   "source": [
    "### Design a Python script to determine the difference in date for given two dates in YYYY:MM:DD format(0 <= YYYY <= 9999, 1 <= MM <= 12, 1 <= DD <= 31) following the leap year rules. Return the total number of days existing between the two dates.\n",
    "\n",
    "dateDifference('2019:05:10', '2019:05:01') -> 9\n",
    "dateDifference('0003:03:03', '0003:06:06') -> 95\n",
    "dateDifference('0001:03:27', '0001:06:03') -> 68"
   ]
  },
  {
   "cell_type": "code",
   "execution_count": 2,
   "metadata": {},
   "outputs": [
    {
     "name": "stdout",
     "output_type": "stream",
     "text": [
      "9\n",
      "95\n",
      "116\n"
     ]
    }
   ],
   "source": [
    "def dateDifference(d1,d2):\n",
    "    if d1[0]%4==0 and d1[0]%100!=0 or d2[0]%4==0 and d2[0]%100!=0 :\n",
    "        condition = True\n",
    "    elif d1[0]%400==0 or d2[0]%400==0 :\n",
    "        condition = True\n",
    "    else:\n",
    "        condition = False\n",
    "    sums=0\n",
    "    sumt=0\n",
    "    diff=0\n",
    "    n=0\n",
    "    m=0\n",
    "    if d1[0] != d2[0]:\n",
    "        if d1[0]>d2[0]:\n",
    "            diff = d1[0] - d2[0]\n",
    "        else:\n",
    "            diff = d2[0] - d1[0]\n",
    "    sums += diff*365\n",
    "    if (condition == True):\n",
    "        dic = {'1':31,'2':29,'3':31,'4':30,'5':31,'6':30,'7':31,'8':31,'9':30,'10':31,'11':30,'12':31}\n",
    "    else:\n",
    "        dic = {'1':31,'2':28,'3':31,'4':30,'5':31,'6':30,'7':31,'8':31,'9':30,'10':31,'11':30,'12':31}\n",
    "    if d1[1] != d2[1]:\n",
    "        n=d1[1]\n",
    "        m=d2[1]\n",
    "        for i in range(d1[1],d2[1]):\n",
    "            sums += dic[str(i)]\n",
    "    if d1[2] != d2[2]:\n",
    "        if d1[2] > d2[2]:\n",
    "            diff = d1[2] - d2[2]\n",
    "        else:\n",
    "             diff = d2[2] - d1[2]\n",
    "    sums += diff\n",
    "    \n",
    "   \n",
    "    return sums\n",
    "\n",
    "print(dateDifference((2019,5,10), (2019,5,1)))\n",
    "print(dateDifference((3,3,3), (3,6,6)))\n"
   ]
  },
  {
   "cell_type": "code",
   "execution_count": null,
   "metadata": {},
   "outputs": [],
   "source": []
  }
 ],
 "metadata": {
  "kernelspec": {
   "display_name": "Python 3",
   "language": "python",
   "name": "python3"
  },
  "language_info": {
   "codemirror_mode": {
    "name": "ipython",
    "version": 3
   },
   "file_extension": ".py",
   "mimetype": "text/x-python",
   "name": "python",
   "nbconvert_exporter": "python",
   "pygments_lexer": "ipython3",
   "version": "3.7.3"
  }
 },
 "nbformat": 4,
 "nbformat_minor": 2
}
