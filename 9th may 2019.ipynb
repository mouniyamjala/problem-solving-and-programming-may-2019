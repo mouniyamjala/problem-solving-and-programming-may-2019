{
 "cells": [
  {
   "cell_type": "markdown",
   "metadata": {},
   "source": [
    "# Date : 9th may 2019\n",
    "## Y. Mounika\n"
   ]
  },
  {
   "cell_type": "markdown",
   "metadata": {},
   "source": [
    "# problem1:\n",
    "\n",
    "### ProblemStatement\n",
    "\n",
    "## Given 2 int values, return True if one is negative and one is positive. Except if the parameter \"negative\" is True, then return True only if both are negative.\n",
    "Test cases\n",
    "pos_neg(1, -1, False) → True\n",
    "pos_neg(-1, 1, False) → True\n",
    "pos_neg(-4, -5, True) → True\n"
   ]
  },
  {
   "cell_type": "code",
   "execution_count": 1,
   "metadata": {},
   "outputs": [
    {
     "data": {
      "text/plain": [
       "False"
      ]
     },
     "execution_count": 1,
     "metadata": {},
     "output_type": "execute_result"
    }
   ],
   "source": [
    "def pos_neg(a,b,c):\n",
    "    return (a>0 and b<0 and c==False) or (a<0 and b>0 and c==False) or (a<0 and b<0 and c==True)\n",
    "  \n",
    "pos_neg(-1,-1,False)"
   ]
  },
  {
   "cell_type": "markdown",
   "metadata": {},
   "source": [
    "# problem2:\n",
    "\n",
    "### Problem statement \n",
    "\n",
    "## Create a Random Number Generator which takes the Range(lb, ub) and returns a Random number in the given range. lb < random number < ub\n",
    "\n",
    "Constraints\n",
    "\n",
    "Test Cases:\n",
    "\n",
    "RandomGenerator(1, 100) -> will be in range (1,100)\n"
   ]
  },
  {
   "cell_type": "code",
   "execution_count": 7,
   "metadata": {},
   "outputs": [
    {
     "data": {
      "text/plain": [
       "10"
      ]
     },
     "execution_count": 7,
     "metadata": {},
     "output_type": "execute_result"
    }
   ],
   "source": [
    "import random\n",
    "def randomgenerator(lb, ub):\n",
    "    return(random.randrange(lb+1,ub))\n",
    "           \n",
    "randomgenerator(1,101)"
   ]
  },
  {
   "cell_type": "markdown",
   "metadata": {},
   "source": [
    "# Problem 3 :\n",
    "### Problem Statement\n",
    "\n",
    "## Given an integer N, calculate the sum of N random numbers in the range [0, 1000000000000000)"
   ]
  },
  {
   "cell_type": "code",
   "execution_count": null,
   "metadata": {},
   "outputs": [],
   "source": []
  },
  {
   "cell_type": "markdown",
   "metadata": {},
   "source": [
    "# problem4:\n",
    "\n",
    "### Problem statement\n",
    "\n",
    "## Design a procedure to perform Linear search on list of N unsorted unique numbers. It take an array and the key element to be searched and returns the index of the element of key element if found. Else returns -1\n",
    "Test cases\n",
    "linear search([1,4,8,0,3,5,6],3)->4\n",
    "linear search([15,12,9,3,-3],0)->-1"
   ]
  },
  {
   "cell_type": "code",
   "execution_count": 2,
   "metadata": {},
   "outputs": [
    {
     "data": {
      "text/plain": [
       "4"
      ]
     },
     "execution_count": 2,
     "metadata": {},
     "output_type": "execute_result"
    }
   ],
   "source": [
    "def linearsearch(a, key):\n",
    "    for i in range(0, len(a)):\n",
    "        if(a[i]==key):\n",
    "            return i\n",
    "    return -1\n",
    "linearsearch([1,4,8,0,3,5,6],3)"
   ]
  },
  {
   "cell_type": "code",
   "execution_count": 3,
   "metadata": {},
   "outputs": [
    {
     "data": {
      "text/plain": [
       "-1"
      ]
     },
     "execution_count": 3,
     "metadata": {},
     "output_type": "execute_result"
    }
   ],
   "source": [
    "linearsearch([15,12,9,3,-3],0)"
   ]
  },
  {
   "cell_type": "markdown",
   "metadata": {},
   "source": [
    "# problem 5:\n",
    "### Problem statement\n",
    "## Procedure to generate multiplication tables.\n",
    "Test cases\n",
    "MT(3, 5, 7) -> 3 X 5 = 15\n",
    "\n",
    "           3 X 6 = 18\n",
    "\n",
    "           3 X 7 = 21"
   ]
  },
  {
   "cell_type": "code",
   "execution_count": 5,
   "metadata": {},
   "outputs": [
    {
     "name": "stdout",
     "output_type": "stream",
     "text": [
      "3 x 5 = 15\n",
      "3 x 6 = 18\n",
      "3 x 7 = 21\n"
     ]
    }
   ],
   "source": [
    "def MT(n,f,t):\n",
    "    for i in range(f,t+1):\n",
    "        print(n,'x',i,'=',n*i)\n",
    "    \n",
    "\n",
    "MT(3,5,7)\n",
    "     "
   ]
  },
  {
   "cell_type": "markdown",
   "metadata": {},
   "source": [
    "# problem 6:\n",
    "\n",
    "## Problem statement\n",
    "\n",
    "### Procedure to print the list of factors of a given number.\n",
    "Test cases\n",
    "FactorList(6) -> 1 2 3 6\n",
    "FactorList (9) -> 1 3 9\n",
    "FactorList (19) -> 1 19"
   ]
  },
  {
   "cell_type": "code",
   "execution_count": 6,
   "metadata": {},
   "outputs": [
    {
     "name": "stdout",
     "output_type": "stream",
     "text": [
      "1\n",
      "2\n",
      "3\n",
      "6\n"
     ]
    }
   ],
   "source": [
    "def Factorlist(x):\n",
    "   for i in range(1,x+1):\n",
    "    if x%i==0:\n",
    "        print(i)\n",
    "    \n",
    "    \n",
    "Factorlist(6)    "
   ]
  },
  {
   "cell_type": "markdown",
   "metadata": {},
   "source": [
    "# problem4:\n",
    "\n",
    "## Problem Statement\n",
    "\n",
    "### Design a procedure to determine if a given string is a Palindrome\n",
    "\n",
    "Constraints\n",
    "\n",
    "Test Cases\n",
    "\n",
    "Palindrome(\"racecar\") -> True\n",
    "Palindrome(\"python\") -> False\n"
   ]
  },
  {
   "cell_type": "code",
   "execution_count": null,
   "metadata": {},
   "outputs": [],
   "source": [
    "def Palindrome(s):\n",
    "    x=len(s)-1\n",
    "    strn=s[x::-1]\n",
    "    print(strn)\n",
    "    if(s==strn):\n",
    "        return True\n",
    "    else:\n",
    "        return False\n",
    "print(Palindrome(\"racecar\"))\n",
    "print(Palindrome(\"raptor\"))"
   ]
  }
 ],
 "metadata": {
  "kernelspec": {
   "display_name": "Python 3",
   "language": "python",
   "name": "python3"
  },
  "language_info": {
   "codemirror_mode": {
    "name": "ipython",
    "version": 3
   },
   "file_extension": ".py",
   "mimetype": "text/x-python",
   "name": "python",
   "nbconvert_exporter": "python",
   "pygments_lexer": "ipython3",
   "version": "3.7.3"
  }
 },
 "nbformat": 4,
 "nbformat_minor": 2
}
