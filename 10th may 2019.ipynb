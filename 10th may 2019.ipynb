{
 "cells": [
  {
   "cell_type": "markdown",
   "metadata": {},
   "source": [
    "# date: 10/5/2019\n",
    "## problem solving and programming\n",
    "### name: mounika"
   ]
  },
  {
   "cell_type": "markdown",
   "metadata": {},
   "source": [
    "# problem set:\n",
    "## Factorial of a given number as a procedure\n",
    "TestCases\n",
    "Factorial(5) -> 120\n",
    "Factorial (6) -> 720"
   ]
  },
  {
   "cell_type": "code",
   "execution_count": null,
   "metadata": {},
   "outputs": [],
   "source": [
    "def fact(num):\n",
    "    if num==1:\n",
    "        return num\n",
    "    else:\n",
    "        return num*fact(num-1)\n",
    "num=int(input(\"enter a number :\"))\n",
    "if num<0:\n",
    "    print(\"cannot find factorial\")\n",
    "elif num==0:\n",
    "    print(\"factorialof 0 is 1\")\n",
    "else:\n",
    "    print(fact(num))\n",
    "print(\"factorial of 5\",fact(5))\n",
    "print(\"factorial of 6\",fact(6))"
   ]
  },
  {
   "cell_type": "markdown",
   "metadata": {},
   "source": [
    "## power of a number"
   ]
  },
  {
   "cell_type": "code",
   "execution_count": null,
   "metadata": {},
   "outputs": [],
   "source": [
    "def recPower(n,r):\n",
    "    if r==1:\n",
    "        return n\n",
    "    else:\n",
    "        return recPower(n,r-1)*n\n",
    "recPower(2,3)\n",
    "        "
   ]
  },
  {
   "cell_type": "code",
   "execution_count": null,
   "metadata": {},
   "outputs": [],
   "source": [
    "def power(n,r):\n",
    "    prod=1\n",
    "    for i in range(1,r+1):\n",
    "        prod*=n\n",
    "    return prod\n",
    "    \n",
    "power(2,3)"
   ]
  },
  {
   "cell_type": "code",
   "execution_count": null,
   "metadata": {},
   "outputs": [],
   "source": [
    "def fact(num):\n",
    "    if num==1:\n",
    "        return num\n",
    "    else:\n",
    "        return num*fact(num-1)\n",
    "fact(5)"
   ]
  },
  {
   "cell_type": "markdown",
   "metadata": {},
   "source": [
    "## GCD OF TWO NUMBERS "
   ]
  },
  {
   "cell_type": "code",
   "execution_count": 3,
   "metadata": {},
   "outputs": [
    {
     "data": {
      "text/plain": [
       "3"
      ]
     },
     "execution_count": 3,
     "metadata": {},
     "output_type": "execute_result"
    }
   ],
   "source": [
    "\n",
    "def gcd(a,b):\n",
    "    if b==0:\n",
    "        return a\n",
    "    else:\n",
    "        return gcd(b,a%b)\n",
    "gcd(12,39)"
   ]
  },
  {
   "cell_type": "markdown",
   "metadata": {},
   "source": [
    "## Towers of hannoi"
   ]
  },
  {
   "cell_type": "code",
   "execution_count": 4,
   "metadata": {},
   "outputs": [
    {
     "name": "stdout",
     "output_type": "stream",
     "text": [
      "Move 1 disk from A to C\n",
      "Move 2 disk from A to B\n",
      "Move 1 disk from C to B\n",
      "Move 3 disk from A to C\n",
      "Move 1 disk from B to A\n",
      "Move 2 disk from B to C\n",
      "Move 1 disk from A to C\n"
     ]
    }
   ],
   "source": [
    "def towersOfHanoi(n,source,temp,dest):\n",
    "    if( n==1):\n",
    "        print('Move',n,'disk from',source,'to',dest)\n",
    "        return\n",
    "    else:\n",
    "        towersOfHanoi(n-1,source,dest,temp)\n",
    "        print('Move',n,'disk from',source,'to',dest)\n",
    "        towersOfHanoi(n-1,temp,source,dest)\n",
    "        return\n",
    "    \n",
    "towersOfHanoi(3,'A','B','C')"
   ]
  },
  {
   "cell_type": "markdown",
   "metadata": {},
   "source": [
    "### Define a function to identity the number of times a substring is repeating in a given string\n",
    "    substringCount('str', 'substr') -> 1\n",
    "    substringCount('1234567891122334455', '3') -> 3\n",
    "    substringCount('abccddccc', 'cc') -> 3\n",
    "    substringCount('aaaaaaa', 'aaa' ) -> 5"
   ]
  },
  {
   "cell_type": "code",
   "execution_count": 13,
   "metadata": {},
   "outputs": [
    {
     "name": "stdout",
     "output_type": "stream",
     "text": [
      "enter a stringjava\n",
      "java\n",
      "enter a substringa\n",
      "count of substring  2\n",
      "count of substring  3\n"
     ]
    }
   ],
   "source": [
    "str=input(\"enter a string\")\n",
    "print(str)\n",
    "substr=input(\"enter a substring\")\n",
    "def substringcount(str,substr):\n",
    "    print(\"count of substring \",str.count(substr))\n",
    "substringcount(str,substr)\n",
    "substringcount('1234567891122334455','3')\n",
    "substringcount('abccddccc', 'cc')\n",
    "substringcount('aaaaaaa', 'aaa' )"
   ]
  },
  {
   "cell_type": "markdown",
   "metadata": {},
   "source": [
    "### Define a function to merge the characters of two strings alternatively. The remaining characters of the longer string are printed in the same order at the end.\n",
    "    mergeString('abcd', 'abcd') -> 'aabbccdd'\n",
    "    mergeString('abc', '123456') -> 'a1b2c3456'\n",
    "    mergeString('0', '123456') -> '0123456'"
   ]
  },
  {
   "cell_type": "code",
   "execution_count": 7,
   "metadata": {},
   "outputs": [
    {
     "name": "stdout",
     "output_type": "stream",
     "text": [
      "aabbccdd \n",
      "a1b2c3456 \n",
      "0123456 \n"
     ]
    }
   ],
   "source": [
    "def mergeString(str1,str2):\n",
    "    for i in range(0,min(len(str1),len(str2))):\n",
    "        s=str1[i]+str2[i]\n",
    "        print(s,end='')\n",
    "        k=i\n",
    "    if(len(str1)>len(str2)):\n",
    "        for j in range(k+1,len(str1)):\n",
    "            s=str1[j]\n",
    "            print(s,end='')\n",
    "    elif(len(str2)>len(str1)):\n",
    "        for j in range(k+1,len(str2)):\n",
    "            s=str2[j]\n",
    "            print(s,end='')\n",
    "    return ' '\n",
    "print(mergeString('abcd','abcd'))\n",
    "print(mergeString('abc', '123456'))\n",
    "print(mergeString('0', '123456'))"
   ]
  },
  {
   "cell_type": "markdown",
   "metadata": {},
   "source": [
    "### Define a function to convert a binary number to the corresponding decimal number\n",
    "    binaryToDecimal(1100) -> 12\n",
    "    binaryToDecimal(1010) -> 10\n",
    "    binaryToDecimal(111000) -> 56"
   ]
  },
  {
   "cell_type": "code",
   "execution_count": null,
   "metadata": {},
   "outputs": [],
   "source": [
    "def binaryToDecimal(n): \n",
    "    num = n; \n",
    "    dec_value = 0; \n",
    "      \n",
    "   \n",
    "    base = 1; \n",
    "      \n",
    "    temp = num; \n",
    "    while(temp): \n",
    "        last_digit = temp % 10; \n",
    "        temp = int(temp / 10); \n",
    "          \n",
    "        dec_value += last_digit * base; \n",
    "        base = base * 2; \n",
    "    return dec_value; \n",
    "binaryToDecimal(10001)"
   ]
  },
  {
   "cell_type": "markdown",
   "metadata": {},
   "source": [
    "### Define a function to convert a decimal number to the corresponding binary number\n",
    "    decimalToBinary(15) -> 1111\n",
    "    decimalToBinary(1) -> 1\n"
   ]
  },
  {
   "cell_type": "code",
   "execution_count": 18,
   "metadata": {},
   "outputs": [
    {
     "name": "stdout",
     "output_type": "stream",
     "text": [
      "1111None\n",
      "1None\n"
     ]
    }
   ],
   "source": [
    "def decToBinary(n): \n",
    "    binaryNum = [0] * n; \n",
    "    i = 0; \n",
    "    while (n > 0):  \n",
    "        binaryNum[i] = n % 2; \n",
    "        n = int(n / 2); \n",
    "        i += 1; \n",
    "    for j in range(i - 1, -1, -1): \n",
    "        print(binaryNum[j],end=\"\"); \n",
    "print(decToBinary(15))\n",
    "print(decToBinary(1))"
   ]
  },
  {
   "cell_type": "markdown",
   "metadata": {},
   "source": [
    "### Define a function to check if a given year is a leap year. Returns a boolean value\n",
    "\n",
    "    2000 -> True\n",
    "    1900 -> False\n",
    "    2012 -> True\n",
    "    2020 -> True\n",
    "    0200 -> False"
   ]
  },
  {
   "cell_type": "code",
   "execution_count": 20,
   "metadata": {},
   "outputs": [
    {
     "name": "stdout",
     "output_type": "stream",
     "text": [
      "True\n",
      "False\n",
      "True\n",
      "True\n",
      "False\n"
     ]
    }
   ],
   "source": [
    "def leap(n):\n",
    "    if n % 400 == 0:\n",
    "        return True\n",
    "    if n % 100 == 0:\n",
    "        return False\n",
    "    if n % 4 == 0:\n",
    "        return True\n",
    "    return False\n",
    "\n",
    "print(leap(2000))\n",
    "print(leap(1900))\n",
    "print(leap(2012))\n",
    "print(leap(2020))\n",
    "print(leap(200))"
   ]
  },
  {
   "cell_type": "markdown",
   "metadata": {},
   "source": [
    "### Design a Python script to determine the difference in date for given two dates in YYYY:MM:DD format(0 <= YYYY <= 9999, 1 <= MM <= 12, 1 <= DD <= 31) following the leap year rules. Return the total number of days existing between the two dates.\n",
    "\n",
    "    dateDifference('2019:05:10', '2019:05:01') -> 9\n",
    "    dateDifference('0003:03:03', '0003:06:06') -> 95"
   ]
  },
  {
   "cell_type": "code",
   "execution_count": 21,
   "metadata": {},
   "outputs": [
    {
     "name": "stdout",
     "output_type": "stream",
     "text": [
      "74 days\n"
     ]
    }
   ],
   "source": [
    "from datetime import date \n",
    "  \n",
    "def numOfDays(date1, date2): \n",
    "    return (date2-date1).days \n",
    "      \n",
    "# Driver program \n",
    "date1 = date(2018, 12, 13) \n",
    "date2 = date(2019, 2, 25) \n",
    "print(numOfDays(date1, date2), \"days\") "
   ]
  },
  {
   "cell_type": "code",
   "execution_count": 8,
   "metadata": {},
   "outputs": [
    {
     "name": "stdout",
     "output_type": "stream",
     "text": [
      "9\n",
      "95\n"
     ]
    }
   ],
   "source": [
    "def dateDifference(d1,d2):\n",
    "    if d1[0]%4==0 and d1[0]%100!=0 or d2[0]%4==0 and d2[0]%100!=0 :\n",
    "        condition = True\n",
    "    elif d1[0]%400==0 or d2[0]%400==0 :\n",
    "        condition = True\n",
    "    else:\n",
    "        condition = False\n",
    "    sums=0\n",
    "    sumt=0\n",
    "    diff=0\n",
    "    n=0\n",
    "    m=0\n",
    "    if d1[0] != d2[0]:\n",
    "        if d1[0]>d2[0]:\n",
    "            diff = d1[0] - d2[0]\n",
    "        else:\n",
    "            diff = d2[0] - d1[0]\n",
    "    sums += diff*365\n",
    "    if (condition == True):\n",
    "        dic = {'1':31,'2':29,'3':31,'4':30,'5':31,'6':30,'7':31,'8':31,'9':30,'10':31,'11':30,'12':31}\n",
    "    else:\n",
    "        dic = {'1':31,'2':28,'3':31,'4':30,'5':31,'6':30,'7':31,'8':31,'9':30,'10':31,'11':30,'12':31}\n",
    "    if d1[1] != d2[1]:\n",
    "        n=d1[1]\n",
    "        m=d2[1]\n",
    "        for i in range(d1[1],d2[1]):\n",
    "            sums += dic[str(i)]\n",
    "    if d1[2] != d2[2]:\n",
    "        if d1[2] > d2[2]:\n",
    "            diff = d1[2] - d2[2]\n",
    "        else:\n",
    "             diff = d2[2] - d1[2]\n",
    "    sums += diff\n",
    "    \n",
    "   \n",
    "    return sums\n",
    "\n",
    "print(dateDifference((2019,5,10), (2019,5,1)))\n",
    "print(dateDifference((3,3,3), (3,6,6)))"
   ]
  },
  {
   "cell_type": "markdown",
   "metadata": {},
   "source": [
    "## Define a function to find the average of all the outer elements of an N x M matrix.\n",
    "\n",
    "averageOuterMatrix([[1, 2, 3], [4, 5, 6], [7, 8, 9], [10, 11, 12]] -> 4.5"
   ]
  },
  {
   "cell_type": "code",
   "execution_count": 5,
   "metadata": {},
   "outputs": [
    {
     "data": {
      "text/plain": [
       "6.5"
      ]
     },
     "execution_count": 5,
     "metadata": {},
     "output_type": "execute_result"
    }
   ],
   "source": [
    "def averageOuterMatrix(a):\n",
    "    c=s=0\n",
    "    for i in range(0,len(a)):\n",
    "        if i==0 or i==len(a)-1:\n",
    "            s=s+sum(a[i])\n",
    "            c=c+len(a[i])\n",
    "        else:\n",
    "            s=s+a[i][0]+a[i][len(a[i])-1]\n",
    "            c=c+2\n",
    "            \n",
    "    return s/c\n",
    "\n",
    "averageOuterMatrix([[1,2,3], [4, 5, 6], [7, 8, 9], [10, 11, 12]])"
   ]
  },
  {
   "cell_type": "markdown",
   "metadata": {},
   "source": [
    "## Define a function to print the sequence of spiral pattern elements for a given N x N matrix\n",
    "\n",
    "spiralPattern([[1,2,3], [4,5,6], [7,8,9]]) -> 1 2 3 6 9 8 7 4 5"
   ]
  },
  {
   "cell_type": "code",
   "execution_count": 6,
   "metadata": {},
   "outputs": [
    {
     "name": "stdout",
     "output_type": "stream",
     "text": [
      "[1, 2, 3, 6, 9, 8, 7, 4, 5]\n"
     ]
    }
   ],
   "source": [
    "def layerTopRight(matrix):\n",
    "  \n",
    "  top = matrix.pop(0) \n",
    "  right = []\n",
    "  for i in range(0, len(matrix)):\n",
    "    e = matrix[i].pop()\n",
    "    right.append(e)\n",
    "    \n",
    "  return top + right\n",
    "\n",
    "def layerBottomLeft(matrix):\n",
    "  \n",
    "  bottom = matrix.pop()[::-1]\n",
    "  \n",
    "  left = []\n",
    "  \n",
    "  for i in range(0, len(matrix)):\n",
    "    e = matrix[i].pop(0)\n",
    "    left.append(e)\n",
    "    \n",
    "  return bottom + left[::-1]\n",
    "\n",
    "\n",
    "def spiral(matrix):\n",
    "  \n",
    "  spir = []\n",
    "  \n",
    "  while len(matrix) > 0:\n",
    "    \n",
    "    if len(matrix) == 1:\n",
    "      spir += matrix[0]\n",
    "      break\n",
    "      \n",
    "    tr = layerTopRight(matrix)\n",
    "    spir += tr\n",
    "    \n",
    "    bl = layerBottomLeft(matrix)\n",
    "    spir += bl\n",
    "    \n",
    "  return spir\n",
    "  \n",
    "  \n",
    "# setup a matrix  \n",
    "M = [[1, 2, 3 ],[4, 5, 6 ], [7, 8, 9 ]]\n",
    "\n",
    "print(spiral(M))"
   ]
  },
  {
   "cell_type": "code",
   "execution_count": null,
   "metadata": {},
   "outputs": [],
   "source": []
  }
 ],
 "metadata": {
  "kernelspec": {
   "display_name": "Python 3",
   "language": "python",
   "name": "python3"
  },
  "language_info": {
   "codemirror_mode": {
    "name": "ipython",
    "version": 3
   },
   "file_extension": ".py",
   "mimetype": "text/x-python",
   "name": "python",
   "nbconvert_exporter": "python",
   "pygments_lexer": "ipython3",
   "version": "3.7.3"
  }
 },
 "nbformat": 4,
 "nbformat_minor": 2
}
