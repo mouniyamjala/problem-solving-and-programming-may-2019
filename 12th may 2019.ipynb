{
 "cells": [
  {
   "cell_type": "markdown",
   "metadata": {},
   "source": [
    "### date: 12th may 2019\n",
    "## Y.Mounika"
   ]
  },
  {
   "cell_type": "markdown",
   "metadata": {},
   "source": [
    "### You are given n words. Some words may repeat. For each word, output its number of occurrences. The output order should correspond with the input order of appearance of the word. \n",
    "First line of input contains the total number of words n. Next n lines contain words that need to processed.\n",
    "\n",
    "First line of the output should contain the total number distinct words. Second line of output must contain the frequency of words the same order of their appearance as in the input\n",
    "\n",
    "Sample Input :  6\n",
    "\n",
    "abcd\n",
    "\n",
    "ijkl\n",
    "\n",
    "abcd\n",
    "\n",
    "pqrs\n",
    "\n",
    "abcd\n",
    "\n",
    "ijkl\n",
    "\n",
    "Sample Output :   3\n",
    "\n",
    "3  2   1"
   ]
  },
  {
   "cell_type": "code",
   "execution_count": 2,
   "metadata": {},
   "outputs": [
    {
     "name": "stdout",
     "output_type": "stream",
     "text": [
      "Enter n\n",
      "6\n",
      "abcd\n",
      "ijkl\n",
      "abcd\n",
      "pqrs\n",
      "abcd\n",
      "ijkl\n",
      "3\n",
      "3\t2\t1\t\n"
     ]
    }
   ],
   "source": [
    "def get_unique_list(words):\n",
    "\tunique_list = []\n",
    "\tfor i in words:\n",
    "\t\tif i not in unique_list:\n",
    "\t\t\tunique_list.append(i)\n",
    "\treturn unique_list\n",
    "\n",
    "\n",
    "n = int(input(\"Enter n\\n\"))\n",
    "words = []\n",
    "for i in range(n):\n",
    "\tword = input()\n",
    "\twords.append(word)\n",
    "\n",
    "unique_list = get_unique_list(words)\n",
    "unique_characters = len(unique_list)\n",
    "frequency = []\n",
    "\n",
    "for i in unique_list:\n",
    "\tfrequency.append(words.count(i))\n",
    "\n",
    "print(unique_characters,end = '\\n')\n",
    "\n",
    "for i in frequency:\n",
    "\tprint(i,end = '\\t')\n",
    "print()"
   ]
  },
  {
   "cell_type": "markdown",
   "metadata": {},
   "source": [
    "###  Define a function to validate email addresses based on the following rules.\n",
    "\n",
    "Email should be in the format username@domain.extension\n",
    "username must start with an alphabet and can contain lowercase alphabet, digits, hyphen(-) and underscores( _ ).\n",
    "username must not contain special characters, uppercase letters, whitespaces.\n",
    "Length of username must be in the range (6, 16)\n",
    "Domain can only contain lowercase alphabet and digits with length in range (3, 10) . No special characters are allowed\n",
    "Extension can only contain lower case alphabet and its length must be in the range (2, 4)\n",
    "First line of input contains total number of email addresses n.  Next n lines contain  n email addresses.\n",
    "\n",
    "Output must contain contain  n  lines with either 'Valid' or 'Invalid'\n",
    "\n",
    "Sample Input :  6\n",
    "\n",
    "abc456@gmail.com\n",
    "\n",
    "456abc@yahoo.com\n",
    "\n",
    "abc_456@gitam.ed1\n",
    "\n",
    "abc-456@abc-d.in\n",
    "\n",
    "python@python.edu\n",
    "\n",
    "abc 456@edu.edu\n",
    "\n",
    "Sample Output :   Valid\n",
    "\n",
    "Invalid\n",
    "\n",
    "Invalid\n",
    "\n",
    "Invalid\n",
    "\n",
    "Valid\n",
    "\n",
    "Invalid"
   ]
  },
  {
   "cell_type": "code",
   "execution_count": 4,
   "metadata": {},
   "outputs": [
    {
     "name": "stdout",
     "output_type": "stream",
     "text": [
      "Enter n : \n",
      "6\n",
      "abc456@gmail.com\n",
      "456abc@yahoo.com \n",
      "abc 456@gitam.ed1 \n",
      "abc-456@abc-d.in \n",
      "python@python.edu\n",
      "abc 456@edu.edu\n",
      "Valid\n",
      "Invalid\n",
      "Invalid\n",
      "Invalid\n",
      "Valid\n",
      "Invalid\n"
     ]
    }
   ],
   "source": [
    "def check_username(username):\n",
    "\tl = len(username)\n",
    "\tif l<6 or l>16:\n",
    "\t\treturn False\n",
    "\tif lowercase_letters.count(username[0]) == 0:\n",
    "\t\treturn False\n",
    "\tfor i in range(l):\n",
    "\t\tif username_charater_set.count(username[i]) == 0:\n",
    "\t\t\treturn False\n",
    "\treturn True\n",
    "\n",
    "def check_domain(domain):\n",
    "\tl = len(domain)\n",
    "\tif l<3 or l>10:\n",
    "\t\treturn False\n",
    "\tfor i in range(l):\n",
    "\t\tif lowercase_letters.count(domain[i]) == 0:\n",
    "\t\t\treturn False\n",
    "\treturn True\n",
    "\n",
    "def check_extension(extension):\n",
    "\tl = len(extension)\n",
    "\tif l<2 or l>4:\n",
    "\t\treturn False\n",
    "\tfor i in range(l):\n",
    "\t\tif lowercase_letters.count(extension[i]) == 0:\n",
    "\t\t\treturn False\n",
    "\treturn True\n",
    "\n",
    "\n",
    "lowercase_letters = [chr(i) for i in range(97,123)]\n",
    "numbers = [str(i) for i in range(10)]\n",
    "username_charater_set = ['-','_'] + numbers + lowercase_letters\n",
    "\n",
    "n = int(input(\"Enter n : \\n\"))\n",
    "usernames = []\n",
    "domains = []\n",
    "extensions = []\n",
    "\n",
    "for i in range(n):\n",
    "\ts = input()\n",
    "\tx = s.split('@')\n",
    "\ty = x[1].split('.')\n",
    "\tusernames.append(x[0])\n",
    "\tdomains.append(y[0])\n",
    "\textensions.append(y[1])\n",
    "\n",
    "results = []\n",
    "\n",
    "for i in range(n):\n",
    "\tx = check_username(usernames[i])\n",
    "\ty = check_domain(domains[i])\n",
    "\tz = check_extension(extensions[i])\n",
    "\tres = x and y and z\n",
    "\tif res:\n",
    "\t\tresults.append('Valid')\n",
    "\telse:\n",
    "\t\tresults.append('Invalid')\n",
    "\n",
    "for i in results:\n",
    "\tprint(i, end = '\\n')"
   ]
  },
  {
   "cell_type": "markdown",
   "metadata": {},
   "source": [
    "###  Define a function that take an array of integers A, and an integer K and returns the longest possible sub-set of A i.e A' such that the sum of no two elements in A' is divisible by K.\n",
    "\n",
    "First line in input contains the length of A and the integer K. Second line of input contains len(A) space-separated integers.\n",
    "\n",
    "Output must contain the length of A' list\n",
    "\n",
    "Sample Input :    4  3\n",
    "\n",
    "1 7 2 4\n",
    "\n",
    "Sample Output : 3"
   ]
  },
  {
   "cell_type": "code",
   "execution_count": 8,
   "metadata": {},
   "outputs": [
    {
     "name": "stdout",
     "output_type": "stream",
     "text": [
      "Enter n and k :\n",
      "4 3\n",
      "1 7 2 4\n",
      "3\n"
     ]
    }
   ],
   "source": [
    "l = (input(\"Enter n and k :\\n\")).split(' ')\n",
    "n = int(l[0])\n",
    "k = int(l[1])\n",
    "\n",
    "l = ((input()).split(' '))\n",
    "A = [int(l[i]) for i in range(len(l))]\n",
    "A_ = []\n",
    "\n",
    "for i in range(n):\n",
    "\tfor j in range(i,n):\n",
    "\t\tif i == j:\n",
    "\t\t\tcontinue\n",
    "\t\tr =\t(A[i]+A[j])%k\n",
    "\t\tif  r == 0:\n",
    "\t\t\tA_.append([A[i],A[j]])\n",
    "\n",
    "print(len(A_))"
   ]
  },
  {
   "cell_type": "code",
   "execution_count": null,
   "metadata": {},
   "outputs": [],
   "source": []
  },
  {
   "cell_type": "code",
   "execution_count": null,
   "metadata": {},
   "outputs": [],
   "source": []
  }
 ],
 "metadata": {
  "kernelspec": {
   "display_name": "Python 3",
   "language": "python",
   "name": "python3"
  },
  "language_info": {
   "codemirror_mode": {
    "name": "ipython",
    "version": 3
   },
   "file_extension": ".py",
   "mimetype": "text/x-python",
   "name": "python",
   "nbconvert_exporter": "python",
   "pygments_lexer": "ipython3",
   "version": "3.7.3"
  }
 },
 "nbformat": 4,
 "nbformat_minor": 2
}
